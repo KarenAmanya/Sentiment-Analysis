{
 "cells": [
  {
   "cell_type": "markdown",
   "id": "e97b3b08",
   "metadata": {},
   "source": [
    "### To find matches of mentions of Coop Bank aspects in the tweets:\n",
    "1. The mobile banking app\n",
    "2. Mcoop cash services or USSD services\n",
    "3. Customer services\n",
    "4. Internet banking services"
   ]
  },
  {
   "cell_type": "code",
   "execution_count": 13,
   "id": "0178156e",
   "metadata": {},
   "outputs": [],
   "source": [
    "import pandas as pd\n",
    "import numpy as np\n",
    "import re\n",
    "import matplotlib.pyplot as plt\n",
    "import seaborn as sns"
   ]
  },
  {
   "cell_type": "code",
   "execution_count": 7,
   "id": "372ab3ed",
   "metadata": {},
   "outputs": [],
   "source": [
    "Data=pd.read_csv('coop2.csv')\n",
    "clean_tweets=[]\n",
    "for tweet in Data.text:\n",
    "    tweet=re.sub(\"@[A-Za-z0-9]+\", repl=' ',string=tweet)#removes @username/mentions\n",
    "    tweet=re.sub('[^a-zA-Z]', repl=' ',string=tweet)#removes punctuations + special chars\n",
    "    tweet=re.sub('(?:(https|http)\\s?:\\/\\/)(\\s)*(www\\.)?(\\s)*((\\w|\\s)+\\.)*([\\w\\-\\s]+\\/)*([\\w\\-]+)((\\?)?[\\w\\s]*=\\s*[\\w\\%&]*)* ',repl=' ',string=tweet)#removes links\n",
    "    clean_tweets.append(tweet)\n",
    "    \n",
    "Data['text']=pd.Series(clean_tweets)"
   ]
  },
  {
   "cell_type": "code",
   "execution_count": 8,
   "id": "db252f49",
   "metadata": {},
   "outputs": [],
   "source": [
    "#A df to keep count of the number of tweets about each aspect\n",
    "all_aspects=pd.DataFrame(columns=['App','Mcoop','Customer_service','Internet_banking'])"
   ]
  },
  {
   "cell_type": "code",
   "execution_count": 9,
   "id": "68a41c71",
   "metadata": {},
   "outputs": [],
   "source": [
    "import re\n",
    "#to find positive matches of 'app'\n",
    "def app_mentions(tweet):\n",
    "    match=re.search(r'\\b app \\b',tweet,re.IGNORECASE) or  re.search(r'\\b App \\b',tweet)  or re.search(r'\\b APP \\b',tweet)\n",
    "    if match:\n",
    "        return True\n",
    "    else:\n",
    "        return False\n",
    "\n",
    "#to find positive matches of 'mcoop' and 'ussd' \n",
    "def mcoop_mentions(tweet):\n",
    "    #to find positive matches of 'app'\n",
    "    match=re.search(r'\\b mcoop \\b',tweet,re.IGNORECASE) or re.search(r'\\b USSD \\b',tweet) or re.search(r'\\b Mcoop \\b',tweet)\n",
    "    if match:\n",
    "        return True\n",
    "    else:\n",
    "        return False\n",
    "\n",
    "#to find positive matches of 'service'\n",
    "def service_mentions(tweet):\n",
    "    #to find positive matches of 'app'\n",
    "    match=re.search(r'\\b service \\b',tweet,re.IGNORECASE) or re.search(r'\\b services \\b',tweet)\n",
    "    if match:\n",
    "        return True\n",
    "    else:\n",
    "        return False\n",
    "\n",
    "#to find positive matches of 'Internet banking'\n",
    "def InternetBanking_mentions(tweet):\n",
    "    #to find positive matches of 'app'\n",
    "    match=re.search(r'\\b internet \\b',tweet,re.IGNORECASE) or re.search(r'\\b internet banking \\b',tweet) or re.search(r'\\b online banking \\b',tweet)\n",
    "    if match:\n",
    "        return True\n",
    "    else:\n",
    "        return False\n",
    "    \n",
    "\n",
    "App=[]\n",
    "Mcoop=[]\n",
    "Customer_service=[]\n",
    "Internet_banking=[]\n",
    "\n",
    "All_tweets=[tweet for tweet in Data.text]\n",
    "\n",
    "for tweet in All_tweets:\n",
    "    if app_mentions(tweet) ==True:\n",
    "        tweet=tweet+','\n",
    "        App.append(tweet)\n",
    "        \n",
    "    if mcoop_mentions(tweet)==True:\n",
    "        tweet=tweet+','\n",
    "        Mcoop.append(tweet)\n",
    "    \n",
    "    if service_mentions(tweet)==True:\n",
    "        tweet=tweet+','\n",
    "        Customer_service.append(tweet)\n",
    "        \n",
    "    if InternetBanking_mentions(tweet)==True:\n",
    "        tweet=tweet+','\n",
    "        Internet_banking.append(tweet)\n",
    "\n",
    "\n",
    "#To add all positive matches of all aspects to the DF\n",
    "all_aspects['App']=pd.Series(App)\n",
    "all_aspects['Mcoop']=pd.Series(Mcoop)\n",
    "all_aspects['Customer_service']=pd.Series(Customer_service)\n",
    "all_aspects['Internet_banking']=pd.Series(Internet_banking)\n"
   ]
  },
  {
   "cell_type": "markdown",
   "id": "bcc22ec4",
   "metadata": {},
   "source": [
    "#### To  visualize the results"
   ]
  },
  {
   "cell_type": "code",
   "execution_count": 11,
   "id": "379d9085",
   "metadata": {},
   "outputs": [],
   "source": [
    "for col in all_aspects.columns:\n",
    "    cols=all_aspects.columns\n",
    "\n",
    "values=[all_aspects['App'].count(),all_aspects['Mcoop'].count() ,all_aspects['Customer_service'].count() ,all_aspects['Internet_banking'].count()]\n",
    "aspect_count=pd.DataFrame(columns=['Aspect','Count'])\n",
    "aspect_count.Aspect=cols\n",
    "aspect_count.Count=values\n",
    "aspect_count.sort_values(by='Count',ascending=True,inplace=True)"
   ]
  },
  {
   "cell_type": "code",
   "execution_count": 14,
   "id": "ba6ff1dd",
   "metadata": {},
   "outputs": [
    {
     "data": {
      "image/png": "[encoded data removed]",
      "text/plain": [
       "<Figure size 576x432 with 1 Axes>"
      ]
     },
     "metadata": {
      "needs_background": "light"
     },
     "output_type": "display_data"
    }
   ],
   "source": [
    "plt.figure(figsize=(8,6))\n",
    "plt.title('A Visual Representation of How Often the Main Aspects of Coop Bank are mentioned in Tweets',fontsize=14)\n",
    "plt.xlabel('No. of Mentions in tweets',fontsize=12)\n",
    "plt.ylabel('Aspect',fontsize=12)\n",
    "plt.barh(aspect_count.Aspect,aspect_count.Count,color=['crimson','skyblue','black','green'])\n",
    "plt.show()"
   ]
  },
  {
   "cell_type": "code",
   "execution_count": null,
   "id": "a01eed0f",
   "metadata": {},
   "outputs": [],
   "source": []
  }
 ],
 "metadata": {
  "kernelspec": {
   "display_name": "Python 3 (ipykernel)",
   "language": "python",
   "name": "python3"
  },
  "language_info": {
   "codemirror_mode": {
    "name": "ipython",
    "version": 3
   },
   "file_extension": ".py",
   "mimetype": "text/x-python",
   "name": "python",
   "nbconvert_exporter": "python",
   "pygments_lexer": "ipython3",
   "version": "3.9.7"
  }
 },
 "nbformat": 4,
 "nbformat_minor": 5
}
