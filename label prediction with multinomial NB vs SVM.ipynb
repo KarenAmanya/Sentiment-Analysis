{
 "cells": [
  {
   "cell_type": "markdown",
   "id": "281fa45e",
   "metadata": {},
   "source": [
    "### Predicting Tweet Labels With Multinomial Logistic Regression"
   ]
  },
  {
   "cell_type": "code",
   "execution_count": 2,
   "id": "876e29b7",
   "metadata": {},
   "outputs": [],
   "source": [
    "import pandas as pd\n",
    "import numpy as np\n",
    "import re\n",
    "from sklearn.feature_extraction.text import CountVectorizer\n",
    "from sklearn.model_selection import train_test_split\n",
    "from sklearn.naive_bayes import MultinomialNB\n"
   ]
  },
  {
   "cell_type": "code",
   "execution_count": 3,
   "id": "ae1ccf96",
   "metadata": {},
   "outputs": [],
   "source": [
    "Data=pd.read_csv('coop2.csv')\n",
    "clean_tweets=[]\n",
    "for tweet in Data.text:\n",
    "    tweet=re.sub(\"@[A-Za-z0-9]+\", repl=' ',string=tweet)#removes @username/mentions\n",
    "    tweet=re.sub('[^a-zA-Z]', repl=' ',string=tweet)#removes punctuations + special chars\n",
    "    tweet=re.sub('(?:(https|http)\\s?:\\/\\/)(\\s)*(www\\.)?(\\s)*((\\w|\\s)+\\.)*([\\w\\-\\s]+\\/)*([\\w\\-]+)((\\?)?[\\w\\s]*=\\s*[\\w\\%&]*)* ',repl=' ',string=tweet)#removes links\n",
    "    clean_tweets.append(tweet)\n",
    "    \n",
    "Data['text']=pd.Series(clean_tweets)"
   ]
  },
  {
   "cell_type": "code",
   "execution_count": 5,
   "id": "5860a674",
   "metadata": {},
   "outputs": [],
   "source": [
    "#To remove the suggestions labele that is too small for the model\n",
    "Suggestions=Data.loc[Data.label =='Suggestion']\n",
    "Data.drop(Data.index[182],inplace=True)"
   ]
  },
  {
   "cell_type": "code",
   "execution_count": 6,
   "id": "12cfe919",
   "metadata": {},
   "outputs": [
    {
     "data": {
      "text/plain": [
       "array([[0, 0, 0, ..., 0, 0, 0],\n",
       "       [0, 0, 0, ..., 0, 0, 0],\n",
       "       [0, 0, 0, ..., 0, 0, 0],\n",
       "       ...,\n",
       "       [0, 0, 0, ..., 0, 0, 0],\n",
       "       [0, 0, 0, ..., 0, 0, 0],\n",
       "       [0, 0, 0, ..., 0, 0, 0]], dtype=int64)"
      ]
     },
     "execution_count": 6,
     "metadata": {},
     "output_type": "execute_result"
    }
   ],
   "source": [
    "#Vectorizing adn tokenizing X\n",
    "Countvectorizer=CountVectorizer()\n",
    "tweets=Data.text\n",
    "X=Countvectorizer.fit_transform(tweets).toarray()\n",
    "X"
   ]
  },
  {
   "cell_type": "code",
   "execution_count": 8,
   "id": "ecd3686a",
   "metadata": {},
   "outputs": [],
   "source": [
    "y=Data.label.values"
   ]
  },
  {
   "cell_type": "code",
   "execution_count": 9,
   "id": "9cc5d8ac",
   "metadata": {},
   "outputs": [
    {
     "data": {
      "text/plain": [
       "MultinomialNB()"
      ]
     },
     "execution_count": 9,
     "metadata": {},
     "output_type": "execute_result"
    }
   ],
   "source": [
    "#Split data in the ration 70:30\n",
    "X_train,X_test,y_train,y_test=train_test_split(X,y,random_state=42,test_size=0.3,stratify=y)\n",
    "\n",
    "#Fit the model\n",
    "multinomialNB=MultinomialNB()\n",
    "multinomialNB.fit(X_train,y_train)"
   ]
  },
  {
   "cell_type": "code",
   "execution_count": 10,
   "id": "e57a2e1c",
   "metadata": {},
   "outputs": [],
   "source": [
    "#to predict values\n",
    "y_pred=multinomialNB.predict(X_test)\n"
   ]
  },
  {
   "cell_type": "markdown",
   "id": "fc65eeab",
   "metadata": {},
   "source": [
    "#### Multinomial NB Results"
   ]
  },
  {
   "cell_type": "code",
   "execution_count": 11,
   "id": "998f0915",
   "metadata": {},
   "outputs": [
    {
     "name": "stdout",
     "output_type": "stream",
     "text": [
      "Multinomial Naive Bayes accuracy score : 67.36%\n"
     ]
    }
   ],
   "source": [
    "#Results\n",
    "from sklearn.metrics import classification_report, confusion_matrix, accuracy_score\n",
    "accuracy=round(accuracy_score(y_test,y_pred)*100,2)\n",
    "print(f'Multinomial Naive Bayes accuracy score : {accuracy}%')"
   ]
  },
  {
   "cell_type": "code",
   "execution_count": 12,
   "id": "36579550",
   "metadata": {},
   "outputs": [
    {
     "data": {
      "text/html": [
       "<div>\n",
       "<style scoped>\n",
       "    .dataframe tbody tr th:only-of-type {\n",
       "        vertical-align: middle;\n",
       "    }\n",
       "\n",
       "    .dataframe tbody tr th {\n",
       "        vertical-align: top;\n",
       "    }\n",
       "\n",
       "    .dataframe thead th {\n",
       "        text-align: right;\n",
       "    }\n",
       "</style>\n",
       "<table border=\"1\" class=\"dataframe\">\n",
       "  <thead>\n",
       "    <tr style=\"text-align: right;\">\n",
       "      <th></th>\n",
       "      <th>Actual_values</th>\n",
       "      <th>Predicted_values</th>\n",
       "    </tr>\n",
       "  </thead>\n",
       "  <tbody>\n",
       "    <tr>\n",
       "      <th>0</th>\n",
       "      <td>Irrelevant</td>\n",
       "      <td>Irrelevant</td>\n",
       "    </tr>\n",
       "    <tr>\n",
       "      <th>1</th>\n",
       "      <td>Request</td>\n",
       "      <td>Negative</td>\n",
       "    </tr>\n",
       "    <tr>\n",
       "      <th>2</th>\n",
       "      <td>Irrelevant</td>\n",
       "      <td>Irrelevant</td>\n",
       "    </tr>\n",
       "    <tr>\n",
       "      <th>3</th>\n",
       "      <td>Positive</td>\n",
       "      <td>Negative</td>\n",
       "    </tr>\n",
       "    <tr>\n",
       "      <th>4</th>\n",
       "      <td>Negative</td>\n",
       "      <td>Negative</td>\n",
       "    </tr>\n",
       "    <tr>\n",
       "      <th>...</th>\n",
       "      <td>...</td>\n",
       "      <td>...</td>\n",
       "    </tr>\n",
       "    <tr>\n",
       "      <th>139</th>\n",
       "      <td>Irrelevant</td>\n",
       "      <td>Request</td>\n",
       "    </tr>\n",
       "    <tr>\n",
       "      <th>140</th>\n",
       "      <td>Irrelevant</td>\n",
       "      <td>Inquiry</td>\n",
       "    </tr>\n",
       "    <tr>\n",
       "      <th>141</th>\n",
       "      <td>Positive</td>\n",
       "      <td>Negative</td>\n",
       "    </tr>\n",
       "    <tr>\n",
       "      <th>142</th>\n",
       "      <td>Irrelevant</td>\n",
       "      <td>Irrelevant</td>\n",
       "    </tr>\n",
       "    <tr>\n",
       "      <th>143</th>\n",
       "      <td>Negative</td>\n",
       "      <td>Negative</td>\n",
       "    </tr>\n",
       "  </tbody>\n",
       "</table>\n",
       "<p>144 rows × 2 columns</p>\n",
       "</div>"
      ],
      "text/plain": [
       "    Actual_values Predicted_values\n",
       "0      Irrelevant       Irrelevant\n",
       "1         Request         Negative\n",
       "2      Irrelevant       Irrelevant\n",
       "3        Positive         Negative\n",
       "4        Negative         Negative\n",
       "..            ...              ...\n",
       "139    Irrelevant          Request\n",
       "140    Irrelevant          Inquiry\n",
       "141      Positive         Negative\n",
       "142    Irrelevant       Irrelevant\n",
       "143      Negative         Negative\n",
       "\n",
       "[144 rows x 2 columns]"
      ]
     },
     "execution_count": 12,
     "metadata": {},
     "output_type": "execute_result"
    }
   ],
   "source": [
    "y_pred_array=Countvectorizer.fit_transform(y_pred).toarray()\n",
    "y_test_array=Countvectorizer.fit_transform(y_test).toarray()\n",
    "\n",
    "#To compare the actual vs predicted values\n",
    "pd.DataFrame({'Actual_values':y_test,'Predicted_values':y_pred})"
   ]
  },
  {
   "cell_type": "markdown",
   "id": "bbcd2276",
   "metadata": {},
   "source": [
    "### TWEET CLASSIFICATION WITH SVM"
   ]
  },
  {
   "cell_type": "code",
   "execution_count": 13,
   "id": "950f6968",
   "metadata": {},
   "outputs": [
    {
     "data": {
      "text/plain": [
       "LinearSVC()"
      ]
     },
     "execution_count": 13,
     "metadata": {},
     "output_type": "execute_result"
    }
   ],
   "source": [
    "from sklearn.svm import LinearSVC\n",
    "\n",
    "linearsvc=LinearSVC()\n",
    "linearsvc.fit(X_train,y_train)"
   ]
  },
  {
   "cell_type": "code",
   "execution_count": 14,
   "id": "b3f40636",
   "metadata": {},
   "outputs": [
    {
     "data": {
      "text/html": [
       "<div>\n",
       "<style scoped>\n",
       "    .dataframe tbody tr th:only-of-type {\n",
       "        vertical-align: middle;\n",
       "    }\n",
       "\n",
       "    .dataframe tbody tr th {\n",
       "        vertical-align: top;\n",
       "    }\n",
       "\n",
       "    .dataframe thead th {\n",
       "        text-align: right;\n",
       "    }\n",
       "</style>\n",
       "<table border=\"1\" class=\"dataframe\">\n",
       "  <thead>\n",
       "    <tr style=\"text-align: right;\">\n",
       "      <th></th>\n",
       "      <th>Actual_values</th>\n",
       "      <th>Predicted_values</th>\n",
       "    </tr>\n",
       "  </thead>\n",
       "  <tbody>\n",
       "    <tr>\n",
       "      <th>0</th>\n",
       "      <td>Irrelevant</td>\n",
       "      <td>Irrelevant</td>\n",
       "    </tr>\n",
       "    <tr>\n",
       "      <th>1</th>\n",
       "      <td>Request</td>\n",
       "      <td>Request</td>\n",
       "    </tr>\n",
       "    <tr>\n",
       "      <th>2</th>\n",
       "      <td>Irrelevant</td>\n",
       "      <td>Irrelevant</td>\n",
       "    </tr>\n",
       "    <tr>\n",
       "      <th>3</th>\n",
       "      <td>Positive</td>\n",
       "      <td>Positive</td>\n",
       "    </tr>\n",
       "    <tr>\n",
       "      <th>4</th>\n",
       "      <td>Negative</td>\n",
       "      <td>Negative</td>\n",
       "    </tr>\n",
       "    <tr>\n",
       "      <th>...</th>\n",
       "      <td>...</td>\n",
       "      <td>...</td>\n",
       "    </tr>\n",
       "    <tr>\n",
       "      <th>139</th>\n",
       "      <td>Irrelevant</td>\n",
       "      <td>Request</td>\n",
       "    </tr>\n",
       "    <tr>\n",
       "      <th>140</th>\n",
       "      <td>Irrelevant</td>\n",
       "      <td>Irrelevant</td>\n",
       "    </tr>\n",
       "    <tr>\n",
       "      <th>141</th>\n",
       "      <td>Positive</td>\n",
       "      <td>Negative</td>\n",
       "    </tr>\n",
       "    <tr>\n",
       "      <th>142</th>\n",
       "      <td>Irrelevant</td>\n",
       "      <td>Irrelevant</td>\n",
       "    </tr>\n",
       "    <tr>\n",
       "      <th>143</th>\n",
       "      <td>Negative</td>\n",
       "      <td>Irrelevant</td>\n",
       "    </tr>\n",
       "  </tbody>\n",
       "</table>\n",
       "<p>144 rows × 2 columns</p>\n",
       "</div>"
      ],
      "text/plain": [
       "    Actual_values Predicted_values\n",
       "0      Irrelevant       Irrelevant\n",
       "1         Request          Request\n",
       "2      Irrelevant       Irrelevant\n",
       "3        Positive         Positive\n",
       "4        Negative         Negative\n",
       "..            ...              ...\n",
       "139    Irrelevant          Request\n",
       "140    Irrelevant       Irrelevant\n",
       "141      Positive         Negative\n",
       "142    Irrelevant       Irrelevant\n",
       "143      Negative       Irrelevant\n",
       "\n",
       "[144 rows x 2 columns]"
      ]
     },
     "execution_count": 14,
     "metadata": {},
     "output_type": "execute_result"
    }
   ],
   "source": [
    "#predicting the labels\n",
    "y_pred2=linearsvc.predict(X_test)\n",
    "\n",
    "#To compare predicted vs actual labels\n",
    "#To compare the actual vs predicted values\n",
    "pd.DataFrame({'Actual_values':y_test,'Predicted_values':y_pred2})"
   ]
  },
  {
   "cell_type": "markdown",
   "id": "90d9be88",
   "metadata": {},
   "source": [
    "#### SVM Results"
   ]
  },
  {
   "cell_type": "code",
   "execution_count": 16,
   "id": "ea33003a",
   "metadata": {},
   "outputs": [
    {
     "name": "stdout",
     "output_type": "stream",
     "text": [
      "0.6666666666666666\n"
     ]
    },
    {
     "data": {
      "text/plain": [
       "'              precision    recall  f1-score   support\\n\\n     Inquiry       0.00      0.00      0.00        10\\n  Irrelevant       0.64      0.88      0.74        58\\n    Negative       0.70      0.54      0.61        52\\n    Positive       0.67      0.50      0.57         4\\n     Request       0.75      0.75      0.75        20\\n\\n    accuracy                           0.67       144\\n   macro avg       0.55      0.53      0.53       144\\nweighted avg       0.63      0.67      0.64       144\\n'"
      ]
     },
     "execution_count": 16,
     "metadata": {},
     "output_type": "execute_result"
    }
   ],
   "source": [
    "print(accuracy_score(y_test,y_pred2))\n",
    "classification_report(y_test,y_pred2)"
   ]
  },
  {
   "cell_type": "code",
   "execution_count": null,
   "id": "f0400eb4",
   "metadata": {},
   "outputs": [],
   "source": []
  }
 ],
 "metadata": {
  "kernelspec": {
   "display_name": "Python 3 (ipykernel)",
   "language": "python",
   "name": "python3"
  },
  "language_info": {
   "codemirror_mode": {
    "name": "ipython",
    "version": 3
   },
   "file_extension": ".py",
   "mimetype": "text/x-python",
   "name": "python",
   "nbconvert_exporter": "python",
   "pygments_lexer": "ipython3",
   "version": "3.9.7"
  }
 },
 "nbformat": 4,
 "nbformat_minor": 5
}
