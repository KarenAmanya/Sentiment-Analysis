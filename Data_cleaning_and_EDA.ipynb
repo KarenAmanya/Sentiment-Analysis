{
 "cells": [
  {
   "cell_type": "code",
   "execution_count": 2,
   "id": "96403cd9",
   "metadata": {},
   "outputs": [],
   "source": [
    "import pandas as pd\n",
    "import numpy as np\n",
    "import re"
   ]
  },
  {
   "cell_type": "code",
   "execution_count": 3,
   "id": "5df2cc8c",
   "metadata": {},
   "outputs": [
    {
     "name": "stdout",
     "output_type": "stream",
     "text": [
      "(479, 3)\n"
     ]
    },
    {
     "data": {
      "text/plain": [
       "user_id    0\n",
       "text       0\n",
       "label      0\n",
       "dtype: int64"
      ]
     },
     "execution_count": 3,
     "metadata": {},
     "output_type": "execute_result"
    }
   ],
   "source": [
    "Data=pd.read_csv('coop2.csv')\n",
    "print(Data.shape)\n",
    "Data.isnull().sum()"
   ]
  },
  {
   "cell_type": "code",
   "execution_count": 7,
   "id": "8d9d48ea",
   "metadata": {},
   "outputs": [
    {
     "name": "stdout",
     "output_type": "stream",
     "text": [
      "0\n"
     ]
    }
   ],
   "source": [
    "Data=Data.drop_duplicates(subset=['user_id','text'])\n",
    "print(Data.duplicated().sum())"
   ]
  },
  {
   "cell_type": "code",
   "execution_count": 8,
   "id": "89fdb6f4",
   "metadata": {},
   "outputs": [
    {
     "data": {
      "text/html": [
       "<div>\n",
       "<style scoped>\n",
       "    .dataframe tbody tr th:only-of-type {\n",
       "        vertical-align: middle;\n",
       "    }\n",
       "\n",
       "    .dataframe tbody tr th {\n",
       "        vertical-align: top;\n",
       "    }\n",
       "\n",
       "    .dataframe thead th {\n",
       "        text-align: right;\n",
       "    }\n",
       "</style>\n",
       "<table border=\"1\" class=\"dataframe\">\n",
       "  <thead>\n",
       "    <tr style=\"text-align: right;\">\n",
       "      <th></th>\n",
       "      <th>user_id</th>\n",
       "      <th>text</th>\n",
       "      <th>label</th>\n",
       "    </tr>\n",
       "  </thead>\n",
       "  <tbody>\n",
       "    <tr>\n",
       "      <th>0</th>\n",
       "      <td>1.500000e+18</td>\n",
       "      <td>@Coopbankenya I'm very frustrated. Your schedu...</td>\n",
       "      <td>Negative</td>\n",
       "    </tr>\n",
       "    <tr>\n",
       "      <th>1</th>\n",
       "      <td>1.500000e+18</td>\n",
       "      <td>@mbunzy001 @Coopbankenya Dm</td>\n",
       "      <td>Irrelevant</td>\n",
       "    </tr>\n",
       "    <tr>\n",
       "      <th>2</th>\n",
       "      <td>1.500000e+18</td>\n",
       "      <td>@Coopbankenya Done</td>\n",
       "      <td>Irrelevant</td>\n",
       "    </tr>\n",
       "    <tr>\n",
       "      <th>3</th>\n",
       "      <td>1.500000e+18</td>\n",
       "      <td>@Coopbankenya having inboxed my issue and gott...</td>\n",
       "      <td>Negative</td>\n",
       "    </tr>\n",
       "    <tr>\n",
       "      <th>4</th>\n",
       "      <td>1.500000e+18</td>\n",
       "      <td>@CynthiaTheuri @Coopbankenya contact @AgentFem...</td>\n",
       "      <td>Irrelevant</td>\n",
       "    </tr>\n",
       "  </tbody>\n",
       "</table>\n",
       "</div>"
      ],
      "text/plain": [
       "        user_id                                               text       label\n",
       "0  1.500000e+18  @Coopbankenya I'm very frustrated. Your schedu...    Negative\n",
       "1  1.500000e+18                        @mbunzy001 @Coopbankenya Dm  Irrelevant\n",
       "2  1.500000e+18                                 @Coopbankenya Done  Irrelevant\n",
       "3  1.500000e+18  @Coopbankenya having inboxed my issue and gott...    Negative\n",
       "4  1.500000e+18  @CynthiaTheuri @Coopbankenya contact @AgentFem...  Irrelevant"
      ]
     },
     "execution_count": 8,
     "metadata": {},
     "output_type": "execute_result"
    }
   ],
   "source": [
    "#A preview of the data\n",
    "Data.head()"
   ]
  },
  {
   "cell_type": "markdown",
   "id": "f6ec12d6",
   "metadata": {},
   "source": [
    "## Pre-processing :\n",
    "1. To remove @username and other mentions within the tweets\n",
    "2. To remove punctuations and other special characters\n",
    "3. To remove links within tweets"
   ]
  },
  {
   "cell_type": "code",
   "execution_count": 9,
   "id": "af68a0b0",
   "metadata": {},
   "outputs": [],
   "source": [
    "clean_tweets=[]\n",
    "for tweet in Data.text:\n",
    "    tweet=re.sub(\"@[A-Za-z0-9]+\", repl=' ',string=tweet)#removes @username/mentions\n",
    "    tweet=re.sub('[^a-zA-Z]', repl=' ',string=tweet)#removes punctuations + special chars\n",
    "    tweet=re.sub('(?:(https|http)\\s?:\\/\\/)(\\s)*(www\\.)?(\\s)*((\\w|\\s)+\\.)*([\\w\\-\\s]+\\/)*([\\w\\-]+)((\\?)?[\\w\\s]*=\\s*[\\w\\%&]*)* ',repl=' ',string=tweet)#removes links\n",
    "    clean_tweets.append(tweet)\n",
    "    \n",
    "Data['text']=pd.Series(clean_tweets)"
   ]
  },
  {
   "cell_type": "code",
   "execution_count": 12,
   "id": "047fbb5d",
   "metadata": {},
   "outputs": [
    {
     "name": "stdout",
     "output_type": "stream",
     "text": [
      "        label  text\n",
      "1  Irrelevant   159\n",
      "2    Negative   159\n",
      "4     Request    53\n",
      "0     Inquiry    31\n",
      "3    Positive    10\n",
      "5  Suggestion     1\n"
     ]
    }
   ],
   "source": [
    "by_sentiment=pd.DataFrame(Data.groupby('label',as_index=False).agg({'text':pd.Series.count})).sort_values('text',ascending=False)\n",
    "print(by_sentiment)"
   ]
  },
  {
   "cell_type": "code",
   "execution_count": 13,
   "id": "5d7941f3",
   "metadata": {},
   "outputs": [
    {
     "data": {
      "image/png": "[encoded data removed]",
      "text/plain": [
       "<Figure size 432x432 with 1 Axes>"
      ]
     },
     "metadata": {},
     "output_type": "display_data"
    }
   ],
   "source": [
    "#To visualize\n",
    "import matplotlib.pyplot as plt\n",
    "import seaborn as sns\n",
    "plt.figure(figsize=(6,6))\n",
    "plt.title('Overall Categories of Tweets',fontsize=18)\n",
    "plt.pie(by_sentiment['text'],labels=by_sentiment['label'])\n",
    "plt.legend()\n",
    "plt.show()"
   ]
  },
  {
   "cell_type": "code",
   "execution_count": 14,
   "id": "eee1dfa5",
   "metadata": {},
   "outputs": [
    {
     "data": {
      "image/png": "[encoded data removed]",
      "text/plain": [
       "<Figure size 432x432 with 1 Axes>"
      ]
     },
     "metadata": {},
     "output_type": "display_data"
    }
   ],
   "source": [
    "pos_vs_neg=pd.DataFrame({'Sentiment':['Negative','Positive'],'Count':[173,11]})\n",
    "\n",
    "#Negative vs Positive sentiments\n",
    "plt.figure(figsize=(6,6))\n",
    "plt.title('Negative vs Positive Tweets',fontsize=14)\n",
    "plt.pie(pos_vs_neg['Count'],labels=pos_vs_neg['Sentiment'])\n",
    "plt.show()"
   ]
  },
  {
   "cell_type": "code",
   "execution_count": null,
   "id": "2f5d2586",
   "metadata": {},
   "outputs": [],
   "source": []
  }
 ],
 "metadata": {
  "kernelspec": {
   "display_name": "Python 3 (ipykernel)",
   "language": "python",
   "name": "python3"
  },
  "language_info": {
   "codemirror_mode": {
    "name": "ipython",
    "version": 3
   },
   "file_extension": ".py",
   "mimetype": "text/x-python",
   "name": "python",
   "nbconvert_exporter": "python",
   "pygments_lexer": "ipython3",
   "version": "3.9.7"
  }
 },
 "nbformat": 4,
 "nbformat_minor": 5
}
